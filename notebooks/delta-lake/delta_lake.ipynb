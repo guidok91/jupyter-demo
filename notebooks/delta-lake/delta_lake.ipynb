{
 "cells": [
  {
   "cell_type": "markdown",
   "id": "6a5e0b25-44af-4485-a5c0-5396caaa984a",
   "metadata": {
    "tags": []
   },
   "source": [
    "# Set up local SparkSession"
   ]
  },
  {
   "cell_type": "code",
   "execution_count": 12,
   "id": "30cc3b7e-0e51-4008-9647-3edad7fa801d",
   "metadata": {},
   "outputs": [],
   "source": [
    "from datetime import date\n",
    "\n",
    "from pyspark.sql import SparkSession, Row\n",
    "import pyspark.sql.functions as F\n",
    "\n",
    "from delta.tables import DeltaTable"
   ]
  },
  {
   "cell_type": "code",
   "execution_count": 13,
   "id": "d58af772-e2f2-407d-97d8-05196ca1a08c",
   "metadata": {},
   "outputs": [],
   "source": [
    "spark = (\n",
    "    SparkSession\n",
    "    .builder\n",
    "    .master(\"local[*]\")\n",
    "    .config(\"spark.jars.packages\", \"io.delta:delta-core_2.12:1.2.1\")\n",
    "    .config(\"spark.sql.extensions\", \"io.delta.sql.DeltaSparkSessionExtension\")\n",
    "    .config(\"spark.sql.catalog.spark_catalog\", \"org.apache.spark.sql.delta.catalog.DeltaCatalog\")\n",
    "    .config(\"spark.sql.repl.eagerEval.enabled\", True)\n",
    "    .config(\"spark.sql.repl.eagerEval.maxNumRows\", 10)\n",
    "    .getOrCreate()\n",
    ")"
   ]
  },
  {
   "cell_type": "markdown",
   "id": "f85dda43-a317-464e-8df0-b9c0dd118810",
   "metadata": {},
   "source": [
    "# Read flights data from CSV"
   ]
  },
  {
   "cell_type": "code",
   "execution_count": 14,
   "id": "f5960c92-5854-40f9-8806-cd5e71159707",
   "metadata": {},
   "outputs": [
    {
     "data": {
      "text/html": [
       "<table border='1'>\n",
       "<tr><th>year</th><th>month</th><th>day</th><th>departure_time</th><th>arrival_time</th><th>carrier</th><th>flight_number</th><th>aircraft_registration</th><th>flight_time</th><th>airport_origin</th><th>airport_destination</th><th>distance</th><th>is_cancelled</th><th>is_diverted</th></tr>\n",
       "<tr><td>2008</td><td>1</td><td>3</td><td>1343</td><td>1451</td><td>WN</td><td>588</td><td>N240WN</td><td>68</td><td>HOU</td><td>LIT</td><td>393</td><td>0</td><td>0</td></tr>\n",
       "<tr><td>2008</td><td>1</td><td>3</td><td>1125</td><td>1247</td><td>WN</td><td>1343</td><td>N523SW</td><td>82</td><td>HOU</td><td>MAF</td><td>441</td><td>0</td><td>0</td></tr>\n",
       "<tr><td>2008</td><td>1</td><td>3</td><td>2009</td><td>2136</td><td>WN</td><td>3841</td><td>N280WN</td><td>87</td><td>HOU</td><td>MAF</td><td>441</td><td>0</td><td>0</td></tr>\n",
       "<tr><td>2008</td><td>1</td><td>3</td><td>903</td><td>1203</td><td>WN</td><td>3</td><td>N308SA</td><td>120</td><td>HOU</td><td>MCO</td><td>848</td><td>0</td><td>0</td></tr>\n",
       "<tr><td>2008</td><td>1</td><td>3</td><td>1423</td><td>1726</td><td>WN</td><td>25</td><td>N462WN</td><td>123</td><td>HOU</td><td>MCO</td><td>848</td><td>0</td><td>0</td></tr>\n",
       "<tr><td>2008</td><td>1</td><td>3</td><td>2024</td><td>2325</td><td>WN</td><td>51</td><td>N483WN</td><td>121</td><td>HOU</td><td>MCO</td><td>848</td><td>0</td><td>0</td></tr>\n",
       "<tr><td>2008</td><td>1</td><td>3</td><td>1753</td><td>2053</td><td>WN</td><td>940</td><td>N493WN</td><td>120</td><td>HOU</td><td>MCO</td><td>848</td><td>0</td><td>0</td></tr>\n",
       "<tr><td>2008</td><td>1</td><td>3</td><td>622</td><td>935</td><td>WN</td><td>2621</td><td>N266WN</td><td>133</td><td>HOU</td><td>MCO</td><td>848</td><td>0</td><td>0</td></tr>\n",
       "<tr><td>2008</td><td>1</td><td>3</td><td>1944</td><td>2210</td><td>WN</td><td>389</td><td>N266WN</td><td>146</td><td>HOU</td><td>MDW</td><td>937</td><td>0</td><td>0</td></tr>\n",
       "<tr><td>2008</td><td>1</td><td>3</td><td>1453</td><td>1716</td><td>WN</td><td>519</td><td>N514SW</td><td>143</td><td>HOU</td><td>MDW</td><td>937</td><td>0</td><td>0</td></tr>\n",
       "</table>\n",
       "only showing top 10 rows\n"
      ],
      "text/plain": [
       "+----+-----+---+--------------+------------+-------+-------------+---------------------+-----------+--------------+-------------------+--------+------------+-----------+\n",
       "|year|month|day|departure_time|arrival_time|carrier|flight_number|aircraft_registration|flight_time|airport_origin|airport_destination|distance|is_cancelled|is_diverted|\n",
       "+----+-----+---+--------------+------------+-------+-------------+---------------------+-----------+--------------+-------------------+--------+------------+-----------+\n",
       "|2008|    1|  3|          1343|        1451|     WN|          588|               N240WN|         68|           HOU|                LIT|     393|           0|          0|\n",
       "|2008|    1|  3|          1125|        1247|     WN|         1343|               N523SW|         82|           HOU|                MAF|     441|           0|          0|\n",
       "|2008|    1|  3|          2009|        2136|     WN|         3841|               N280WN|         87|           HOU|                MAF|     441|           0|          0|\n",
       "|2008|    1|  3|           903|        1203|     WN|            3|               N308SA|        120|           HOU|                MCO|     848|           0|          0|\n",
       "|2008|    1|  3|          1423|        1726|     WN|           25|               N462WN|        123|           HOU|                MCO|     848|           0|          0|\n",
       "|2008|    1|  3|          2024|        2325|     WN|           51|               N483WN|        121|           HOU|                MCO|     848|           0|          0|\n",
       "|2008|    1|  3|          1753|        2053|     WN|          940|               N493WN|        120|           HOU|                MCO|     848|           0|          0|\n",
       "|2008|    1|  3|           622|         935|     WN|         2621|               N266WN|        133|           HOU|                MCO|     848|           0|          0|\n",
       "|2008|    1|  3|          1944|        2210|     WN|          389|               N266WN|        146|           HOU|                MDW|     937|           0|          0|\n",
       "|2008|    1|  3|          1453|        1716|     WN|          519|               N514SW|        143|           HOU|                MDW|     937|           0|          0|\n",
       "+----+-----+---+--------------+------------+-------+-------------+---------------------+-----------+--------------+-------------------+--------+------------+-----------+\n",
       "only showing top 10 rows"
      ]
     },
     "execution_count": 14,
     "metadata": {},
     "output_type": "execute_result"
    }
   ],
   "source": [
    "df = (\n",
    "    spark\n",
    "    .read\n",
    "    .option(\"header\", True)\n",
    "    .option(\"inferSchema\", True)\n",
    "    .csv(\"flights.csv\")\n",
    ")\n",
    "df"
   ]
  },
  {
   "cell_type": "markdown",
   "id": "ca5a933e-d649-4be7-a551-aa7b645007e3",
   "metadata": {},
   "source": [
    "# Perform some simple aggregations and transformations"
   ]
  },
  {
   "cell_type": "code",
   "execution_count": 15,
   "id": "4bb424ef-10a7-4f9d-bfb5-d8df99b326db",
   "metadata": {},
   "outputs": [
    {
     "data": {
      "text/html": [
       "<table border='1'>\n",
       "<tr><th>date</th><th>airport_origin</th><th>airport_destination</th><th>count</th><th>avg_flight_time</th></tr>\n",
       "<tr><td>2008-01-03</td><td>LAX</td><td>OAK</td><td>20</td><td>80</td></tr>\n",
       "<tr><td>2008-01-03</td><td>LAS</td><td>PHX</td><td>18</td><td>64</td></tr>\n",
       "<tr><td>2008-01-03</td><td>LAX</td><td>LAS</td><td>14</td><td>63</td></tr>\n",
       "<tr><td>2008-01-03</td><td>LAS</td><td>LAX</td><td>14</td><td>67</td></tr>\n",
       "<tr><td>2008-01-03</td><td>LAS</td><td>SAN</td><td>14</td><td>63</td></tr>\n",
       "<tr><td>2008-01-03</td><td>LAS</td><td>BUR</td><td>13</td><td>62</td></tr>\n",
       "<tr><td>2008-01-03</td><td>LAX</td><td>PHX</td><td>13</td><td>66</td></tr>\n",
       "<tr><td>2008-01-03</td><td>LAX</td><td>SJC</td><td>13</td><td>64</td></tr>\n",
       "<tr><td>2008-01-03</td><td>LAS</td><td>RNO</td><td>13</td><td>74</td></tr>\n",
       "<tr><td>2008-01-03</td><td>LAS</td><td>OAK</td><td>13</td><td>95</td></tr>\n",
       "</table>\n",
       "only showing top 10 rows\n"
      ],
      "text/plain": [
       "+----------+--------------+-------------------+-----+---------------+\n",
       "|      date|airport_origin|airport_destination|count|avg_flight_time|\n",
       "+----------+--------------+-------------------+-----+---------------+\n",
       "|2008-01-03|           LAX|                OAK|   20|             80|\n",
       "|2008-01-03|           LAS|                PHX|   18|             64|\n",
       "|2008-01-03|           LAX|                LAS|   14|             63|\n",
       "|2008-01-03|           LAS|                LAX|   14|             67|\n",
       "|2008-01-03|           LAS|                SAN|   14|             63|\n",
       "|2008-01-03|           LAS|                BUR|   13|             62|\n",
       "|2008-01-03|           LAX|                PHX|   13|             66|\n",
       "|2008-01-03|           LAX|                SJC|   13|             64|\n",
       "|2008-01-03|           LAS|                RNO|   13|             74|\n",
       "|2008-01-03|           LAS|                OAK|   13|             95|\n",
       "+----------+--------------+-------------------+-----+---------------+\n",
       "only showing top 10 rows"
      ]
     },
     "execution_count": 15,
     "metadata": {},
     "output_type": "execute_result"
    }
   ],
   "source": [
    "df = (\n",
    "    df\n",
    "    .withColumn(\"date\", F.to_date(F.concat(\"year\", F.lit(\"-\"), \"month\", F.lit(\"-\"), \"day\")))\n",
    "    .where(\"is_cancelled = 0 and is_diverted = 0\")\n",
    "    .groupBy(\"date\", \"airport_origin\", \"airport_destination\")\n",
    "    .agg({\"*\": \"count\", \"flight_time\": \"avg\"})\n",
    "    .withColumnRenamed(\"count(1)\", \"count\")\n",
    "    .withColumnRenamed(\"avg(flight_time)\", \"avg_flight_time\")\n",
    "    .withColumn(\"avg_flight_time\", F.col(\"avg_flight_time\").cast(\"int\"))\n",
    ")\n",
    "df.orderBy(\"count\", ascending=False)"
   ]
  },
  {
   "cell_type": "markdown",
   "id": "822ca660-9dd0-46bd-b4c9-bebe3f321e6b",
   "metadata": {},
   "source": [
    "# Write to partitioned Delta table"
   ]
  },
  {
   "cell_type": "code",
   "execution_count": 16,
   "id": "a65f6f53-a5b2-4e04-af43-e928b25adaa3",
   "metadata": {},
   "outputs": [],
   "source": [
    "(\n",
    "    df\n",
    "    .coalesce(5)\n",
    "    .write\n",
    "    .mode(\"overwrite\")\n",
    "    .option(\"overwriteSchema\", \"true\")\n",
    "    .partitionBy([\"date\"])\n",
    "    .format(\"delta\")\n",
    "    .saveAsTable(\"flights\")\n",
    ")"
   ]
  },
  {
   "cell_type": "markdown",
   "id": "ec4ba7ed-da47-4cea-b1a3-e2dada479def",
   "metadata": {},
   "source": [
    "# Perform updates, deletes and merges on the table"
   ]
  },
  {
   "cell_type": "code",
   "execution_count": 17,
   "id": "73e3aebd-2a37-4820-82d0-99f56f3dea63",
   "metadata": {},
   "outputs": [],
   "source": [
    "flights_table = DeltaTable.forName(spark, \"flights\")"
   ]
  },
  {
   "cell_type": "code",
   "execution_count": 18,
   "id": "00b71246-cce5-4e13-a2e1-6f5d7b8a8c16",
   "metadata": {},
   "outputs": [
    {
     "data": {
      "text/html": [
       "<table border='1'>\n",
       "<tr><th>date</th><th>airport_origin</th><th>airport_destination</th><th>count</th><th>avg_flight_time</th></tr>\n",
       "<tr><td>2008-01-03</td><td>LAX</td><td>OAK</td><td>20</td><td>null</td></tr>\n",
       "<tr><td>2008-01-03</td><td>LAX</td><td>PHX</td><td>13</td><td>66</td></tr>\n",
       "<tr><td>2008-01-03</td><td>LAX</td><td>SJC</td><td>13</td><td>64</td></tr>\n",
       "<tr><td>2008-01-03</td><td>MCI</td><td>MDW</td><td>12</td><td>81</td></tr>\n",
       "<tr><td>2008-01-03</td><td>MDW</td><td>MCI</td><td>12</td><td>79</td></tr>\n",
       "<tr><td>2008-01-03</td><td>HOU</td><td>MSY</td><td>11</td><td>58</td></tr>\n",
       "<tr><td>2008-01-03</td><td>MHT</td><td>BWI</td><td>11</td><td>79</td></tr>\n",
       "<tr><td>2008-01-03</td><td>LAX</td><td>SMF</td><td>10</td><td>71</td></tr>\n",
       "<tr><td>2008-01-03</td><td>MDW</td><td>STL</td><td>10</td><td>59</td></tr>\n",
       "<tr><td>2008-01-03</td><td>HRL</td><td>HOU</td><td>9</td><td>54</td></tr>\n",
       "</table>\n",
       "only showing top 10 rows\n"
      ],
      "text/plain": [
       "+----------+--------------+-------------------+-----+---------------+\n",
       "|      date|airport_origin|airport_destination|count|avg_flight_time|\n",
       "+----------+--------------+-------------------+-----+---------------+\n",
       "|2008-01-03|           LAX|                OAK|   20|           null|\n",
       "|2008-01-03|           LAX|                PHX|   13|             66|\n",
       "|2008-01-03|           LAX|                SJC|   13|             64|\n",
       "|2008-01-03|           MCI|                MDW|   12|             81|\n",
       "|2008-01-03|           MDW|                MCI|   12|             79|\n",
       "|2008-01-03|           HOU|                MSY|   11|             58|\n",
       "|2008-01-03|           MHT|                BWI|   11|             79|\n",
       "|2008-01-03|           LAX|                SMF|   10|             71|\n",
       "|2008-01-03|           MDW|                STL|   10|             59|\n",
       "|2008-01-03|           HRL|                HOU|    9|             54|\n",
       "+----------+--------------+-------------------+-----+---------------+\n",
       "only showing top 10 rows"
      ]
     },
     "execution_count": 18,
     "metadata": {},
     "output_type": "execute_result"
    }
   ],
   "source": [
    "flights_table.update(\n",
    "    condition=\"avg_flight_time = 80\",\n",
    "    set={\"avg_flight_time\": \"null\"}\n",
    ")\n",
    "\n",
    "flights_table.delete(\"airport_origin = 'LAS' or airport_destination = 'LAS'\")\n",
    "\n",
    "flights_table.toDF().orderBy(\"count\", ascending=False)"
   ]
  },
  {
   "cell_type": "code",
   "execution_count": 19,
   "id": "5fdb930e-755d-483b-9d5d-50827b6f9fa4",
   "metadata": {},
   "outputs": [
    {
     "data": {
      "text/html": [
       "<table border='1'>\n",
       "<tr><th>date</th><th>airport_origin</th><th>airport_destination</th><th>count</th><th>avg_flight_time</th></tr>\n",
       "<tr><td>2008-01-04</td><td>JFK</td><td>EZE</td><td>22</td><td>660</td></tr>\n",
       "<tr><td>2008-01-03</td><td>LAX</td><td>OAK</td><td>21</td><td>83</td></tr>\n",
       "<tr><td>2008-01-03</td><td>LAX</td><td>PHX</td><td>13</td><td>66</td></tr>\n",
       "<tr><td>2008-01-03</td><td>LAX</td><td>SJC</td><td>13</td><td>64</td></tr>\n",
       "<tr><td>2008-01-03</td><td>MCI</td><td>MDW</td><td>12</td><td>81</td></tr>\n",
       "<tr><td>2008-01-03</td><td>MDW</td><td>MCI</td><td>12</td><td>79</td></tr>\n",
       "<tr><td>2008-01-03</td><td>MHT</td><td>BWI</td><td>11</td><td>79</td></tr>\n",
       "<tr><td>2008-01-03</td><td>HOU</td><td>MSY</td><td>11</td><td>58</td></tr>\n",
       "<tr><td>2008-01-03</td><td>MDW</td><td>STL</td><td>10</td><td>59</td></tr>\n",
       "<tr><td>2008-01-03</td><td>LAX</td><td>SMF</td><td>10</td><td>71</td></tr>\n",
       "</table>\n",
       "only showing top 10 rows\n"
      ],
      "text/plain": [
       "+----------+--------------+-------------------+-----+---------------+\n",
       "|      date|airport_origin|airport_destination|count|avg_flight_time|\n",
       "+----------+--------------+-------------------+-----+---------------+\n",
       "|2008-01-04|           JFK|                EZE|   22|            660|\n",
       "|2008-01-03|           LAX|                OAK|   21|             83|\n",
       "|2008-01-03|           LAX|                PHX|   13|             66|\n",
       "|2008-01-03|           LAX|                SJC|   13|             64|\n",
       "|2008-01-03|           MCI|                MDW|   12|             81|\n",
       "|2008-01-03|           MDW|                MCI|   12|             79|\n",
       "|2008-01-03|           MHT|                BWI|   11|             79|\n",
       "|2008-01-03|           HOU|                MSY|   11|             58|\n",
       "|2008-01-03|           MDW|                STL|   10|             59|\n",
       "|2008-01-03|           LAX|                SMF|   10|             71|\n",
       "+----------+--------------+-------------------+-----+---------------+\n",
       "only showing top 10 rows"
      ]
     },
     "execution_count": 19,
     "metadata": {},
     "output_type": "execute_result"
    }
   ],
   "source": [
    "incoming_df = spark.createDataFrame([\n",
    "    {\"date\": date(2008, 1, 3), \"airport_origin\": \"LAX\", \"airport_destination\": \"OAK\", \"count\": 21, \"avg_flight_time\": 83},\n",
    "    {\"date\": date(2008, 1, 4), \"airport_origin\": \"JFK\", \"airport_destination\": \"EZE\", \"count\": 22, \"avg_flight_time\": 660},\n",
    "])\n",
    "\n",
    "(\n",
    "    flights_table\n",
    "    .alias(\"existing\")\n",
    "    .merge(\n",
    "        source=incoming_df.alias(\"incoming\"),\n",
    "        condition=\"existing.date = incoming.date \"\n",
    "                  \"AND existing.airport_origin = incoming.airport_origin \"\n",
    "                  \"AND existing.airport_destination = incoming.airport_destination\"\n",
    "    )\n",
    "    .whenMatchedUpdateAll()\n",
    "    .whenNotMatchedInsertAll()\n",
    "    .execute()\n",
    ")\n",
    "\n",
    "flights_table.toDF().orderBy(\"count\", ascending=False)"
   ]
  },
  {
   "cell_type": "markdown",
   "id": "7e40b409-acd1-4940-ad57-403f1f9bffa8",
   "metadata": {},
   "source": [
    "# Time travel"
   ]
  },
  {
   "cell_type": "code",
   "execution_count": 20,
   "id": "be04cbaf-6af8-481f-9fdf-a1f80ec28573",
   "metadata": {},
   "outputs": [
    {
     "data": {
      "text/html": [
       "<table border='1'>\n",
       "<tr><th>version</th><th>timestamp</th><th>userId</th><th>userName</th><th>operation</th><th>operationParameters</th><th>job</th><th>notebook</th><th>clusterId</th><th>readVersion</th><th>isolationLevel</th><th>isBlindAppend</th><th>operationMetrics</th><th>userMetadata</th><th>engineInfo</th></tr>\n",
       "<tr><td>3</td><td>2022-05-20 14:39:51</td><td>null</td><td>null</td><td>MERGE</td><td>{predicate -&gt; (((...</td><td>null</td><td>null</td><td>null</td><td>2</td><td>Serializable</td><td>false</td><td>{numTargetRowsCop...</td><td>null</td><td>Apache-Spark/3.2....</td></tr>\n",
       "<tr><td>2</td><td>2022-05-20 14:39:47</td><td>null</td><td>null</td><td>DELETE</td><td>{predicate -&gt; [&quot;(...</td><td>null</td><td>null</td><td>null</td><td>1</td><td>Serializable</td><td>false</td><td>{numRemovedFiles ...</td><td>null</td><td>Apache-Spark/3.2....</td></tr>\n",
       "<tr><td>1</td><td>2022-05-20 14:39:45</td><td>null</td><td>null</td><td>UPDATE</td><td>{predicate -&gt; (av...</td><td>null</td><td>null</td><td>null</td><td>0</td><td>Serializable</td><td>false</td><td>{numRemovedFiles ...</td><td>null</td><td>Apache-Spark/3.2....</td></tr>\n",
       "<tr><td>0</td><td>2022-05-20 14:39:41</td><td>null</td><td>null</td><td>CREATE OR REPLACE...</td><td>{isManaged -&gt; tru...</td><td>null</td><td>null</td><td>null</td><td>null</td><td>Serializable</td><td>false</td><td>{numFiles -&gt; 1, n...</td><td>null</td><td>Apache-Spark/3.2....</td></tr>\n",
       "</table>\n"
      ],
      "text/plain": [
       "+-------+-------------------+------+--------+--------------------+--------------------+----+--------+---------+-----------+--------------+-------------+--------------------+------------+--------------------+\n",
       "|version|          timestamp|userId|userName|           operation| operationParameters| job|notebook|clusterId|readVersion|isolationLevel|isBlindAppend|    operationMetrics|userMetadata|          engineInfo|\n",
       "+-------+-------------------+------+--------+--------------------+--------------------+----+--------+---------+-----------+--------------+-------------+--------------------+------------+--------------------+\n",
       "|      3|2022-05-20 14:39:51|  null|    null|               MERGE|{predicate -> (((...|null|    null|     null|          2|  Serializable|        false|{numTargetRowsCop...|        null|Apache-Spark/3.2....|\n",
       "|      2|2022-05-20 14:39:47|  null|    null|              DELETE|{predicate -> [\"(...|null|    null|     null|          1|  Serializable|        false|{numRemovedFiles ...|        null|Apache-Spark/3.2....|\n",
       "|      1|2022-05-20 14:39:45|  null|    null|              UPDATE|{predicate -> (av...|null|    null|     null|          0|  Serializable|        false|{numRemovedFiles ...|        null|Apache-Spark/3.2....|\n",
       "|      0|2022-05-20 14:39:41|  null|    null|CREATE OR REPLACE...|{isManaged -> tru...|null|    null|     null|       null|  Serializable|        false|{numFiles -> 1, n...|        null|Apache-Spark/3.2....|\n",
       "+-------+-------------------+------+--------+--------------------+--------------------+----+--------+---------+-----------+--------------+-------------+--------------------+------------+--------------------+"
      ]
     },
     "execution_count": 20,
     "metadata": {},
     "output_type": "execute_result"
    }
   ],
   "source": [
    "flights_table.history()"
   ]
  },
  {
   "cell_type": "code",
   "execution_count": 21,
   "id": "53765cde-7ddf-40e4-9462-12152f1d665f",
   "metadata": {},
   "outputs": [
    {
     "data": {
      "text/html": [
       "<table border='1'>\n",
       "<tr><th>date</th><th>airport_origin</th><th>airport_destination</th><th>count</th><th>avg_flight_time</th></tr>\n",
       "<tr><td>2008-01-03</td><td>LAX</td><td>OAK</td><td>20</td><td>80</td></tr>\n",
       "<tr><td>2008-01-03</td><td>LAS</td><td>PHX</td><td>18</td><td>64</td></tr>\n",
       "<tr><td>2008-01-03</td><td>LAX</td><td>LAS</td><td>14</td><td>63</td></tr>\n",
       "<tr><td>2008-01-03</td><td>LAS</td><td>LAX</td><td>14</td><td>67</td></tr>\n",
       "<tr><td>2008-01-03</td><td>LAS</td><td>SAN</td><td>14</td><td>63</td></tr>\n",
       "<tr><td>2008-01-03</td><td>LAS</td><td>BUR</td><td>13</td><td>62</td></tr>\n",
       "<tr><td>2008-01-03</td><td>LAX</td><td>PHX</td><td>13</td><td>66</td></tr>\n",
       "<tr><td>2008-01-03</td><td>LAX</td><td>SJC</td><td>13</td><td>64</td></tr>\n",
       "<tr><td>2008-01-03</td><td>LAS</td><td>RNO</td><td>13</td><td>74</td></tr>\n",
       "<tr><td>2008-01-03</td><td>LAS</td><td>OAK</td><td>13</td><td>95</td></tr>\n",
       "</table>\n",
       "only showing top 10 rows\n"
      ],
      "text/plain": [
       "+----------+--------------+-------------------+-----+---------------+\n",
       "|      date|airport_origin|airport_destination|count|avg_flight_time|\n",
       "+----------+--------------+-------------------+-----+---------------+\n",
       "|2008-01-03|           LAX|                OAK|   20|             80|\n",
       "|2008-01-03|           LAS|                PHX|   18|             64|\n",
       "|2008-01-03|           LAX|                LAS|   14|             63|\n",
       "|2008-01-03|           LAS|                LAX|   14|             67|\n",
       "|2008-01-03|           LAS|                SAN|   14|             63|\n",
       "|2008-01-03|           LAS|                BUR|   13|             62|\n",
       "|2008-01-03|           LAX|                PHX|   13|             66|\n",
       "|2008-01-03|           LAX|                SJC|   13|             64|\n",
       "|2008-01-03|           LAS|                RNO|   13|             74|\n",
       "|2008-01-03|           LAS|                OAK|   13|             95|\n",
       "+----------+--------------+-------------------+-----+---------------+\n",
       "only showing top 10 rows"
      ]
     },
     "execution_count": 21,
     "metadata": {},
     "output_type": "execute_result"
    }
   ],
   "source": [
    "df = spark.read.option(\"versionAsOf\", 0).table(\"flights\")\n",
    "df.orderBy(\"count\", ascending=False)"
   ]
  },
  {
   "cell_type": "markdown",
   "id": "014684c1-9fcb-470a-87c0-f1c6b9f07b4c",
   "metadata": {},
   "source": [
    "# Vacuum "
   ]
  },
  {
   "cell_type": "code",
   "execution_count": 22,
   "id": "76b5b090-23a7-4a8e-bcee-5d56666a1d60",
   "metadata": {},
   "outputs": [
    {
     "name": "stderr",
     "output_type": "stream",
     "text": [
      "                                                                                \r"
     ]
    },
    {
     "name": "stdout",
     "output_type": "stream",
     "text": [
      "Deleted 0 files and directories in a total of 3 directories.\n"
     ]
    },
    {
     "name": "stderr",
     "output_type": "stream",
     "text": [
      "                                                                                \r"
     ]
    },
    {
     "data": {
      "text/html": [
       "<table border='1'>\n",
       "<tr><th></th></tr>\n",
       "</table>\n"
      ],
      "text/plain": [
       "++\n",
       "||\n",
       "++\n",
       "++"
      ]
     },
     "execution_count": 22,
     "metadata": {},
     "output_type": "execute_result"
    }
   ],
   "source": [
    "# Keep only last 30 days of data\n",
    "flights_table.vacuum(retentionHours=720)"
   ]
  },
  {
   "cell_type": "markdown",
   "id": "eacdefb4-2737-4c65-827d-7d24ce9cd63a",
   "metadata": {},
   "source": [
    "# Schema evolution"
   ]
  },
  {
   "cell_type": "code",
   "execution_count": 23,
   "id": "8af277b8-d227-44ba-a236-08c06f595f4b",
   "metadata": {},
   "outputs": [],
   "source": [
    "# TODO"
   ]
  },
  {
   "cell_type": "code",
   "execution_count": null,
   "id": "729cbb5a-0492-479a-8aa5-39394afd5801",
   "metadata": {},
   "outputs": [],
   "source": []
  }
 ],
 "metadata": {
  "kernelspec": {
   "display_name": "Python 3 (ipykernel)",
   "language": "python",
   "name": "python3"
  },
  "language_info": {
   "codemirror_mode": {
    "name": "ipython",
    "version": 3
   },
   "file_extension": ".py",
   "mimetype": "text/x-python",
   "name": "python",
   "nbconvert_exporter": "python",
   "pygments_lexer": "ipython3",
   "version": "3.9.0"
  }
 },
 "nbformat": 4,
 "nbformat_minor": 5
}
