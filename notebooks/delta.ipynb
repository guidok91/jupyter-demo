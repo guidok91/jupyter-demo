{
 "cells": [
  {
   "cell_type": "markdown",
   "id": "6a5e0b25-44af-4485-a5c0-5396caaa984a",
   "metadata": {
    "tags": []
   },
   "source": [
    "# Set up local SparkSession"
   ]
  },
  {
   "cell_type": "code",
   "execution_count": 4,
   "id": "30cc3b7e-0e51-4008-9647-3edad7fa801d",
   "metadata": {},
   "outputs": [],
   "source": [
    "from datetime import date\n",
    "\n",
    "from pyspark.sql import SparkSession, Row\n",
    "import pyspark.sql.functions as F\n",
    "\n",
    "from delta.tables import DeltaTable"
   ]
  },
  {
   "cell_type": "code",
   "execution_count": 5,
   "id": "d58af772-e2f2-407d-97d8-05196ca1a08c",
   "metadata": {},
   "outputs": [],
   "source": [
    "spark = (\n",
    "    SparkSession\n",
    "    .builder\n",
    "    .master(\"local[*]\")\n",
    "    .config(\"spark.jars.packages\", \"io.delta:delta-core_2.12:1.2.1\")\n",
    "    .config(\"spark.sql.extensions\", \"io.delta.sql.DeltaSparkSessionExtension\")\n",
    "    .config(\"spark.sql.catalog.spark_catalog\", \"org.apache.spark.sql.delta.catalog.DeltaCatalog\")\n",
    "    .config(\"spark.sql.repl.eagerEval.enabled\", True)\n",
    "    .config(\"spark.sql.repl.eagerEval.maxNumRows\", 10)\n",
    "    .getOrCreate()\n",
    ")"
   ]
  },
  {
   "cell_type": "markdown",
   "id": "f85dda43-a317-464e-8df0-b9c0dd118810",
   "metadata": {},
   "source": [
    "# Read weather data from CSV"
   ]
  },
  {
   "cell_type": "code",
   "execution_count": 6,
   "id": "f5960c92-5854-40f9-8806-cd5e71159707",
   "metadata": {},
   "outputs": [],
   "source": [
    "df = (\n",
    "    spark\n",
    "    .read\n",
    "    .option(\"header\", True)\n",
    "    .option(\"inferSchema\", True)\n",
    "    .csv(\"weather.csv\")\n",
    ").cache()"
   ]
  },
  {
   "cell_type": "markdown",
   "id": "ca5a933e-d649-4be7-a551-aa7b645007e3",
   "metadata": {},
   "source": [
    "# Perform some simple transformations"
   ]
  },
  {
   "cell_type": "code",
   "execution_count": 7,
   "id": "4bb424ef-10a7-4f9d-bfb5-d8df99b326db",
   "metadata": {},
   "outputs": [
    {
     "data": {
      "text/html": [
       "<table border='1'>\n",
       "<tr><th>date</th><th>temperature_mean_f</th><th>wind_speed_mean_mph</th><th>cloud_cover</th><th>year</th><th>month</th></tr>\n",
       "<tr><td>2014-01-01</td><td>29</td><td>9</td><td>5</td><td>2014</td><td>1</td></tr>\n",
       "<tr><td>2014-01-02</td><td>26</td><td>18</td><td>8</td><td>2014</td><td>1</td></tr>\n",
       "<tr><td>2014-01-03</td><td>14</td><td>20</td><td>3</td><td>2014</td><td>1</td></tr>\n",
       "<tr><td>2014-01-04</td><td>17</td><td>7</td><td>3</td><td>2014</td><td>1</td></tr>\n",
       "<tr><td>2014-01-05</td><td>36</td><td>7</td><td>7</td><td>2014</td><td>1</td></tr>\n",
       "<tr><td>2014-01-06</td><td>37</td><td>21</td><td>7</td><td>2014</td><td>1</td></tr>\n",
       "<tr><td>2014-01-07</td><td>13</td><td>23</td><td>1</td><td>2014</td><td>1</td></tr>\n",
       "<tr><td>2014-01-08</td><td>17</td><td>13</td><td>3</td><td>2014</td><td>1</td></tr>\n",
       "<tr><td>2014-01-09</td><td>28</td><td>7</td><td>4</td><td>2014</td><td>1</td></tr>\n",
       "<tr><td>2014-01-10</td><td>31</td><td>4</td><td>8</td><td>2014</td><td>1</td></tr>\n",
       "</table>\n",
       "only showing top 10 rows\n"
      ],
      "text/plain": [
       "+----------+------------------+-------------------+-----------+----+-----+\n",
       "|      date|temperature_mean_f|wind_speed_mean_mph|cloud_cover|year|month|\n",
       "+----------+------------------+-------------------+-----------+----+-----+\n",
       "|2014-01-01|                29|                  9|          5|2014|    1|\n",
       "|2014-01-02|                26|                 18|          8|2014|    1|\n",
       "|2014-01-03|                14|                 20|          3|2014|    1|\n",
       "|2014-01-04|                17|                  7|          3|2014|    1|\n",
       "|2014-01-05|                36|                  7|          7|2014|    1|\n",
       "|2014-01-06|                37|                 21|          7|2014|    1|\n",
       "|2014-01-07|                13|                 23|          1|2014|    1|\n",
       "|2014-01-08|                17|                 13|          3|2014|    1|\n",
       "|2014-01-09|                28|                  7|          4|2014|    1|\n",
       "|2014-01-10|                31|                  4|          8|2014|    1|\n",
       "+----------+------------------+-------------------+-----------+----+-----+\n",
       "only showing top 10 rows"
      ]
     },
     "execution_count": 7,
     "metadata": {},
     "output_type": "execute_result"
    }
   ],
   "source": [
    "df = (\n",
    "    df\n",
    "    .withColumn(\"date\", F.to_date(F.col(\"date\"), \"M/d/yyyy\"))\n",
    "    .withColumn(\"year\", F.year(\"date\"))\n",
    "    .withColumn(\"month\", F.month(\"date\"))\n",
    "    .select(\"date\", \"temperature_mean_f\", \"wind_speed_mean_mph\", \"cloud_cover\", \"year\", \"month\")\n",
    ")\n",
    "df"
   ]
  },
  {
   "cell_type": "markdown",
   "id": "822ca660-9dd0-46bd-b4c9-bebe3f321e6b",
   "metadata": {},
   "source": [
    "# Write to partitioned Delta table"
   ]
  },
  {
   "cell_type": "code",
   "execution_count": 8,
   "id": "a65f6f53-a5b2-4e04-af43-e928b25adaa3",
   "metadata": {},
   "outputs": [
    {
     "name": "stderr",
     "output_type": "stream",
     "text": [
      "                                                                                \r"
     ]
    }
   ],
   "source": [
    "(\n",
    "    df\n",
    "    .coalesce(5)\n",
    "    .write\n",
    "    .mode(\"overwrite\")\n",
    "    .partitionBy([\"year\", \"month\"])\n",
    "    .format(\"delta\")\n",
    "    .saveAsTable(\"weather\")\n",
    ")"
   ]
  },
  {
   "cell_type": "markdown",
   "id": "ec4ba7ed-da47-4cea-b1a3-e2dada479def",
   "metadata": {},
   "source": [
    "# Perform some Delta operations on the table (update, delete, merge...)"
   ]
  },
  {
   "cell_type": "code",
   "execution_count": 9,
   "id": "1f5cbf8a-08af-46bb-ba7a-05dbff5ab029",
   "metadata": {},
   "outputs": [
    {
     "name": "stderr",
     "output_type": "stream",
     "text": [
      "22/05/20 09:53:45 WARN package: Truncated the string representation of a plan since it was too large. This behavior can be adjusted by setting 'spark.sql.debug.maxToStringFields'.\n"
     ]
    },
    {
     "data": {
      "text/html": [
       "<table border='1'>\n",
       "<tr><th>date</th><th>temperature_mean_f</th><th>wind_speed_mean_mph</th><th>cloud_cover</th><th>year</th><th>month</th></tr>\n",
       "<tr><td>2021-01-01</td><td>22</td><td>12</td><td>5</td><td>2021</td><td>1</td></tr>\n",
       "<tr><td>2016-06-30</td><td>30</td><td>10</td><td>1</td><td>2016</td><td>6</td></tr>\n",
       "<tr><td>2016-06-29</td><td>80</td><td>8</td><td>null</td><td>2016</td><td>6</td></tr>\n",
       "<tr><td>2016-06-28</td><td>73</td><td>11</td><td>8</td><td>2016</td><td>6</td></tr>\n",
       "<tr><td>2016-06-27</td><td>74</td><td>16</td><td>null</td><td>2016</td><td>6</td></tr>\n",
       "<tr><td>2016-06-26</td><td>73</td><td>10</td><td>4</td><td>2016</td><td>6</td></tr>\n",
       "<tr><td>2016-06-25</td><td>73</td><td>9</td><td>1</td><td>2016</td><td>6</td></tr>\n",
       "</table>\n"
      ],
      "text/plain": [
       "+----------+------------------+-------------------+-----------+----+-----+\n",
       "|      date|temperature_mean_f|wind_speed_mean_mph|cloud_cover|year|month|\n",
       "+----------+------------------+-------------------+-----------+----+-----+\n",
       "|2021-01-01|                22|                 12|          5|2021|    1|\n",
       "|2016-06-30|                30|                 10|          1|2016|    6|\n",
       "|2016-06-29|                80|                  8|       null|2016|    6|\n",
       "|2016-06-28|                73|                 11|          8|2016|    6|\n",
       "|2016-06-27|                74|                 16|       null|2016|    6|\n",
       "|2016-06-26|                73|                 10|          4|2016|    6|\n",
       "|2016-06-25|                73|                  9|          1|2016|    6|\n",
       "+----------+------------------+-------------------+-----------+----+-----+"
      ]
     },
     "execution_count": 9,
     "metadata": {},
     "output_type": "execute_result"
    }
   ],
   "source": [
    "weather_table = DeltaTable.forName(spark, \"weather\")\n",
    "\n",
    "weather_table.update(\n",
    "    condition=\"cloud_cover == 5\",\n",
    "    set={\"cloud_cover\": \"null\"}\n",
    ")\n",
    "\n",
    "weather_table.delete(\"date < '2016-06-25'\")\n",
    "\n",
    "incoming_df = spark.createDataFrame([\n",
    "    {\"date\": date(2016, 6, 30), \"temperature_mean_f\": 30, \"wind_speed_mean_mph\": 10, \"cloud_cover\": 1, \"year\": 2016, \"month\": 6},\n",
    "    {\"date\": date(2021, 1, 1), \"temperature_mean_f\": 22, \"wind_speed_mean_mph\": 12, \"cloud_cover\": 5, \"year\": 2021, \"month\": 1},\n",
    "])\n",
    "\n",
    "(\n",
    "    weather_table\n",
    "    .alias(\"existing\")\n",
    "    .merge(\n",
    "        incoming_df.alias(\"incoming\"),\n",
    "        \"existing.date = incoming.date \"\n",
    "        \"AND existing.year = incoming.year \"\n",
    "        \"AND existing.month = incoming.month\"\n",
    "    )\n",
    "    .whenMatchedUpdate(set={\n",
    "        \"temperature_mean_f\": \"incoming.temperature_mean_f\",\n",
    "        \"wind_speed_mean_mph\": \"incoming.wind_speed_mean_mph\",\n",
    "        \"cloud_cover\": \"incoming.cloud_cover\",\n",
    "    })\n",
    "    .whenNotMatchedInsert(values={\n",
    "        \"date\": \"incoming.date\",\n",
    "        \"temperature_mean_f\": \"incoming.temperature_mean_f\",\n",
    "        \"wind_speed_mean_mph\": \"incoming.wind_speed_mean_mph\",\n",
    "        \"cloud_cover\": \"incoming.cloud_cover\",\n",
    "        \"year\": \"incoming.year\",\n",
    "        \"month\": \"incoming.month\",\n",
    "    })\n",
    "    .execute()\n",
    ")\n",
    "\n",
    "weather_table.toDF().orderBy(\"date\", ascending=False)"
   ]
  },
  {
   "cell_type": "code",
   "execution_count": null,
   "id": "48342f46-9c5d-430d-bf8e-e5cb4fce9028",
   "metadata": {},
   "outputs": [],
   "source": []
  }
 ],
 "metadata": {
  "kernelspec": {
   "display_name": "Python 3 (ipykernel)",
   "language": "python",
   "name": "python3"
  },
  "language_info": {
   "codemirror_mode": {
    "name": "ipython",
    "version": 3
   },
   "file_extension": ".py",
   "mimetype": "text/x-python",
   "name": "python",
   "nbconvert_exporter": "python",
   "pygments_lexer": "ipython3",
   "version": "3.9.0"
  }
 },
 "nbformat": 4,
 "nbformat_minor": 5
}
