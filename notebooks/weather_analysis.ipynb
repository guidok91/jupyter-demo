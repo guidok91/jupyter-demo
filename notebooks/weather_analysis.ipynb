{
 "cells": [
  {
   "cell_type": "code",
   "execution_count": 1,
   "id": "30cc3b7e-0e51-4008-9647-3edad7fa801d",
   "metadata": {},
   "outputs": [],
   "source": [
    "from pyspark.sql import SparkSession, Row\n",
    "import pyspark.sql.functions as F\n",
    "import pandas as pd"
   ]
  },
  {
   "cell_type": "code",
   "execution_count": 2,
   "id": "d58af772-e2f2-407d-97d8-05196ca1a08c",
   "metadata": {},
   "outputs": [
    {
     "name": "stderr",
     "output_type": "stream",
     "text": [
      "21/08/14 10:15:14 WARN NativeCodeLoader: Unable to load native-hadoop library for your platform... using builtin-java classes where applicable\n",
      "Using Spark's default log4j profile: org/apache/spark/log4j-defaults.properties\n",
      "Setting default log level to \"WARN\".\n",
      "To adjust logging level use sc.setLogLevel(newLevel). For SparkR, use setLogLevel(newLevel).\n"
     ]
    }
   ],
   "source": [
    "spark = (\n",
    "    SparkSession\n",
    "    .builder\n",
    "    .master(\"local[*]\")\n",
    "    .config(\"spark.sql.repl.eagerEval.enabled\", True)\n",
    "    .config(\"spark.sql.repl.eagerEval.maxNumRows\", 5)\n",
    "    .getOrCreate()\n",
    ")"
   ]
  },
  {
   "cell_type": "code",
   "execution_count": 3,
   "id": "f5960c92-5854-40f9-8806-cd5e71159707",
   "metadata": {},
   "outputs": [],
   "source": [
    "df = (\n",
    "    spark\n",
    "    .read\n",
    "    .option(\"header\", True)\n",
    "    .option(\"inferSchema\", True)\n",
    "    .csv(\"weather.csv\")\n",
    ").cache()"
   ]
  },
  {
   "cell_type": "code",
   "execution_count": 4,
   "id": "f87b919c-42ef-48a4-8288-944fdb624ac6",
   "metadata": {},
   "outputs": [
    {
     "data": {
      "text/html": [
       "<table border='1'>\n",
       "<tr><th>date</th><th>temperature_max_f</th><th>temperature_mean_f</th><th>temperature_min_f</th><th>dew_point_max_f</th><th>dew_point_mean_f</th><th>dew_point_min_f</th><th>humidity_max</th><th>humidity_mean</th><th>humidity_min</th><th>sea_level_pressure_max_in</th><th>sea_level_pressure_mean_in</th><th>sea_level_pressure_min_in</th><th>visibility_max_miles</th><th>visibility_mean_miles</th><th>visibility_min_miles</th><th>wind_speed_max_mph</th><th>wind_speed_mean_mph</th><th>gust_speed_max_mph</th><th>precipitation_in</th><th>cloud_cover</th><th>events</th><th>wind_degrees</th></tr>\n",
       "<tr><td>1/1/2014</td><td>34</td><td>29</td><td>24</td><td>18</td><td>13</td><td>5</td><td>60</td><td>49</td><td>38</td><td>30.43</td><td>30.36</td><td>30.27</td><td>10</td><td>10</td><td>10</td><td>18</td><td>9</td><td>23</td><td>0</td><td>5</td><td>null</td><td>297</td></tr>\n",
       "<tr><td>1/2/2014</td><td>33</td><td>26</td><td>19</td><td>25</td><td>21</td><td>15</td><td>91</td><td>71</td><td>51</td><td>30.24</td><td>29.94</td><td>29.67</td><td>10</td><td>7</td><td>0</td><td>29</td><td>18</td><td>36</td><td>0.13</td><td>8</td><td>Snow</td><td>32</td></tr>\n",
       "<tr><td>1/3/2014</td><td>19</td><td>14</td><td>9</td><td>13</td><td>4</td><td>-7</td><td>88</td><td>65</td><td>42</td><td>30.48</td><td>30.05</td><td>29.62</td><td>10</td><td>5</td><td>0</td><td>33</td><td>20</td><td>44</td><td>0.22</td><td>3</td><td>Fog-Snow</td><td>335</td></tr>\n",
       "<tr><td>1/4/2014</td><td>31</td><td>17</td><td>3</td><td>18</td><td>5</td><td>-5</td><td>67</td><td>52</td><td>36</td><td>30.55</td><td>30.45</td><td>30.33</td><td>10</td><td>10</td><td>10</td><td>17</td><td>7</td><td>21</td><td>0</td><td>3</td><td>null</td><td>250</td></tr>\n",
       "<tr><td>1/5/2014</td><td>49</td><td>36</td><td>23</td><td>48</td><td>31</td><td>17</td><td>93</td><td>81</td><td>68</td><td>30.34</td><td>30.18</td><td>29.79</td><td>10</td><td>5</td><td>0</td><td>23</td><td>7</td><td>31</td><td>0.1</td><td>7</td><td>Fog-Rain</td><td>88</td></tr>\n",
       "</table>\n",
       "only showing top 5 rows\n"
      ],
      "text/plain": [
       "+--------+-----------------+------------------+-----------------+---------------+----------------+---------------+------------+-------------+------------+-------------------------+--------------------------+-------------------------+--------------------+---------------------+--------------------+------------------+-------------------+------------------+----------------+-----------+--------+------------+\n",
       "|    date|temperature_max_f|temperature_mean_f|temperature_min_f|dew_point_max_f|dew_point_mean_f|dew_point_min_f|humidity_max|humidity_mean|humidity_min|sea_level_pressure_max_in|sea_level_pressure_mean_in|sea_level_pressure_min_in|visibility_max_miles|visibility_mean_miles|visibility_min_miles|wind_speed_max_mph|wind_speed_mean_mph|gust_speed_max_mph|precipitation_in|cloud_cover|  events|wind_degrees|\n",
       "+--------+-----------------+------------------+-----------------+---------------+----------------+---------------+------------+-------------+------------+-------------------------+--------------------------+-------------------------+--------------------+---------------------+--------------------+------------------+-------------------+------------------+----------------+-----------+--------+------------+\n",
       "|1/1/2014|               34|                29|               24|             18|              13|              5|          60|           49|          38|                    30.43|                     30.36|                    30.27|                  10|                   10|                  10|                18|                  9|                23|               0|          5|    null|         297|\n",
       "|1/2/2014|               33|                26|               19|             25|              21|             15|          91|           71|          51|                    30.24|                     29.94|                    29.67|                  10|                    7|                   0|                29|                 18|                36|            0.13|          8|    Snow|          32|\n",
       "|1/3/2014|               19|                14|                9|             13|               4|             -7|          88|           65|          42|                    30.48|                     30.05|                    29.62|                  10|                    5|                   0|                33|                 20|                44|            0.22|          3|Fog-Snow|         335|\n",
       "|1/4/2014|               31|                17|                3|             18|               5|             -5|          67|           52|          36|                    30.55|                     30.45|                    30.33|                  10|                   10|                  10|                17|                  7|                21|               0|          3|    null|         250|\n",
       "|1/5/2014|               49|                36|               23|             48|              31|             17|          93|           81|          68|                    30.34|                     30.18|                    29.79|                  10|                    5|                   0|                23|                  7|                31|             0.1|          7|Fog-Rain|          88|\n",
       "+--------+-----------------+------------------+-----------------+---------------+----------------+---------------+------------+-------------+------------+-------------------------+--------------------------+-------------------------+--------------------+---------------------+--------------------+------------------+-------------------+------------------+----------------+-----------+--------+------------+\n",
       "only showing top 5 rows"
      ]
     },
     "execution_count": 4,
     "metadata": {},
     "output_type": "execute_result"
    }
   ],
   "source": [
    "df"
   ]
  },
  {
   "cell_type": "markdown",
   "id": "dd813b72-e32a-47cb-944a-24419bddc1e6",
   "metadata": {},
   "source": [
    "## Plot minimum and maximum snow temperatures per year, in Celsius"
   ]
  },
  {
   "cell_type": "code",
   "execution_count": 5,
   "id": "c59338a9-0ec8-4118-8683-f7cc8f8cb3ee",
   "metadata": {},
   "outputs": [
    {
     "data": {
      "text/plain": [
       "<AxesSubplot:>"
      ]
     },
     "execution_count": 5,
     "metadata": {},
     "output_type": "execute_result"
    },
    {
     "data": {
      "image/png": "[encoded data removed]",
      "text/plain": [
       "<Figure size 432x288 with 1 Axes>"
      ]
     },
     "metadata": {
      "needs_background": "light"
     },
     "output_type": "display_data"
    }
   ],
   "source": [
    "(\n",
    "    df\n",
    "    .where(\"lower(events) like '%snow%'\")\n",
    "    .withColumn(\"date\", F.to_date(F.col(\"date\"), \"M/d/yyyy\"))\n",
    "    .withColumn(\"temperature_min_c\", ((F.col(\"temperature_min_f\") - 32) * 5/9).cast(\"int\"))\n",
    "    .withColumn(\"temperature_max_c\", ((F.col(\"temperature_max_f\") - 32) * 5/9).cast(\"int\"))\n",
    "    .groupBy(F.year(\"date\"))\n",
    "    .agg({\"temperature_min_c\": \"min\", \"temperature_max_c\": \"max\"})\n",
    "    .withColumnRenamed(\"year(date)\", \"year\")\n",
    "    .withColumnRenamed(\"min(temperature_min_c)\", \"temperature_min_c_snow\")\n",
    "    .withColumnRenamed(\"max(temperature_max_c)\", \"temperature_max_c_snow\")\n",
    "    .toPandas()\n",
    "    .plot(x=\"year\", y=[\"temperature_min_c_snow\", \"temperature_max_c_snow\"], use_index=False)\n",
    ")"
   ]
  }
 ],
 "metadata": {
  "kernelspec": {
   "display_name": "Python 3 (ipykernel)",
   "language": "python",
   "name": "python3"
  },
  "language_info": {
   "codemirror_mode": {
    "name": "ipython",
    "version": 3
   },
   "file_extension": ".py",
   "mimetype": "text/x-python",
   "name": "python",
   "nbconvert_exporter": "python",
   "pygments_lexer": "ipython3",
   "version": "3.9.0"
  }
 },
 "nbformat": 4,
 "nbformat_minor": 5
}
