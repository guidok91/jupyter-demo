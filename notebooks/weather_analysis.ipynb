{
 "cells": [
  {
   "cell_type": "code",
   "execution_count": 2,
   "id": "30cc3b7e-0e51-4008-9647-3edad7fa801d",
   "metadata": {},
   "outputs": [],
   "source": [
    "from pyspark.sql import SparkSession, Row\n",
    "import pyspark.sql.functions as F"
   ]
  },
  {
   "cell_type": "code",
   "execution_count": 3,
   "id": "d58af772-e2f2-407d-97d8-05196ca1a08c",
   "metadata": {},
   "outputs": [
    {
     "name": "stderr",
     "output_type": "stream",
     "text": [
      "21/08/12 09:34:37 WARN Utils: Your hostname, HF-LPT-1115A.local resolves to a loopback address: 127.0.0.1; using 10.97.130.191 instead (on interface en0)\n",
      "21/08/12 09:34:37 WARN Utils: Set SPARK_LOCAL_IP if you need to bind to another address\n",
      "21/08/12 09:34:37 WARN NativeCodeLoader: Unable to load native-hadoop library for your platform... using builtin-java classes where applicable\n",
      "Using Spark's default log4j profile: org/apache/spark/log4j-defaults.properties\n",
      "Setting default log level to \"WARN\".\n",
      "To adjust logging level use sc.setLogLevel(newLevel). For SparkR, use setLogLevel(newLevel).\n"
     ]
    }
   ],
   "source": [
    "spark = (\n",
    "    SparkSession\n",
    "    .builder\n",
    "    .master(\"local[*]\")\n",
    "    .getOrCreate()\n",
    ")"
   ]
  },
  {
   "cell_type": "code",
   "execution_count": 4,
   "id": "f5960c92-5854-40f9-8806-cd5e71159707",
   "metadata": {},
   "outputs": [],
   "source": [
    "df = (\n",
    "    spark\n",
    "    .read\n",
    "    .option(\"header\", True)\n",
    "    .option(\"inferSchema\", True)\n",
    "    .csv(\"weather.csv\")\n",
    ").cache()"
   ]
  },
  {
   "cell_type": "code",
   "execution_count": 5,
   "id": "af7df806-fc3c-4765-bf38-e2cad0484167",
   "metadata": {},
   "outputs": [
    {
     "name": "stdout",
     "output_type": "stream",
     "text": [
      "root\n",
      " |-- EST: string (nullable = true)\n",
      " |-- Max TemperatureF: integer (nullable = true)\n",
      " |-- Mean TemperatureF: integer (nullable = true)\n",
      " |-- Min TemperatureF: integer (nullable = true)\n",
      " |-- Max Dew PointF: integer (nullable = true)\n",
      " |-- MeanDew PointF: integer (nullable = true)\n",
      " |-- Min DewpointF: integer (nullable = true)\n",
      " |-- Max Humidity: integer (nullable = true)\n",
      " |--  Mean Humidity: integer (nullable = true)\n",
      " |--  Min Humidity: integer (nullable = true)\n",
      " |--  Max Sea Level PressureIn: double (nullable = true)\n",
      " |--  Mean Sea Level PressureIn: double (nullable = true)\n",
      " |--  Min Sea Level PressureIn: double (nullable = true)\n",
      " |--  Max VisibilityMiles: integer (nullable = true)\n",
      " |--  Mean VisibilityMiles: integer (nullable = true)\n",
      " |--  Min VisibilityMiles: integer (nullable = true)\n",
      " |--  Max Wind SpeedMPH: integer (nullable = true)\n",
      " |--  Mean Wind SpeedMPH: integer (nullable = true)\n",
      " |--  Max Gust SpeedMPH: integer (nullable = true)\n",
      " |-- PrecipitationIn: string (nullable = true)\n",
      " |--  CloudCover: integer (nullable = true)\n",
      " |--  Events: string (nullable = true)\n",
      " |--  WindDirDegrees: integer (nullable = true)\n",
      "\n"
     ]
    }
   ],
   "source": [
    "df.printSchema()"
   ]
  },
  {
   "cell_type": "code",
   "execution_count": 6,
   "id": "73f76568-bd51-4b0f-846a-ca434792a8e8",
   "metadata": {},
   "outputs": [],
   "source": [
    "df = df.withColumn(\"EST\", F.to_date(F.col(\"EST\"), \"M/d/yyyy\"))"
   ]
  },
  {
   "cell_type": "code",
   "execution_count": 7,
   "id": "df4a2b9b-13cf-4dd2-9505-c7b9568893a6",
   "metadata": {},
   "outputs": [
    {
     "data": {
      "text/plain": [
       "<AxesSubplot:xlabel='EST'>"
      ]
     },
     "execution_count": 7,
     "metadata": {},
     "output_type": "execute_result"
    },
    {
     "data": {
      "image/png": "[encoded data removed]",
      "text/plain": [
       "<Figure size 432x288 with 1 Axes>"
      ]
     },
     "metadata": {
      "needs_background": "light"
     },
     "output_type": "display_data"
    }
   ],
   "source": [
    "(\n",
    "    df\n",
    "    .select(\"EST\", \"Max TemperatureF\")\n",
    "    .toPandas()\n",
    "    .plot(x=\"EST\", y=\"Max TemperatureF\")\n",
    ")"
   ]
  },
  {
   "cell_type": "code",
   "execution_count": null,
   "id": "94dc9c47-97ec-4c5b-8bd8-1be568c008f4",
   "metadata": {},
   "outputs": [],
   "source": []
  },
  {
   "cell_type": "code",
   "execution_count": null,
   "id": "1ace2e0c-e8e5-45c5-a305-d6409ca03d64",
   "metadata": {},
   "outputs": [],
   "source": []
  }
 ],
 "metadata": {
  "kernelspec": {
   "display_name": "Python 3 (ipykernel)",
   "language": "python",
   "name": "python3"
  },
  "language_info": {
   "codemirror_mode": {
    "name": "ipython",
    "version": 3
   },
   "file_extension": ".py",
   "mimetype": "text/x-python",
   "name": "python",
   "nbconvert_exporter": "python",
   "pygments_lexer": "ipython3",
   "version": "3.9.0"
  }
 },
 "nbformat": 4,
 "nbformat_minor": 5
}
